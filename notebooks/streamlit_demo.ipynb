{
  "nbformat": 4,
  "nbformat_minor": 0,
  "metadata": {
    "colab": {
      "name": "streamlit-demo.ipynb",
      "provenance": [],
      "collapsed_sections": []
    },
    "kernelspec": {
      "name": "python3",
      "display_name": "Python 3"
    }
  },
  "cells": [
    {
      "cell_type": "markdown",
      "metadata": {
        "id": "vUevWGA1h70H"
      },
      "source": [
        "# Installing Libraries\r\n",
        "\r\n",
        "Install streamlit pyngrok and pyEDFlib to visualise the EEG data"
      ]
    },
    {
      "cell_type": "code",
      "metadata": {
        "colab": {
          "base_uri": "https://localhost:8080/"
        },
        "id": "h9yj952YWJY5",
        "outputId": "17de9881-016f-48e9-e59d-577898af2cc9"
      },
      "source": [
        "!pip install streamlit"
      ],
      "execution_count": 5,
      "outputs": [
        {
          "output_type": "stream",
          "text": [
            "Requirement already satisfied: streamlit in /usr/local/lib/python3.6/dist-packages (0.75.0)\n",
            "Requirement already satisfied: pandas>=0.21.0 in /usr/local/lib/python3.6/dist-packages (from streamlit) (1.1.5)\n",
            "Requirement already satisfied: numpy in /usr/local/lib/python3.6/dist-packages (from streamlit) (1.19.5)\n",
            "Requirement already satisfied: pyarrow; python_version < \"3.9\" in /usr/local/lib/python3.6/dist-packages (from streamlit) (0.14.1)\n",
            "Requirement already satisfied: python-dateutil in /usr/local/lib/python3.6/dist-packages (from streamlit) (2.8.1)\n",
            "Requirement already satisfied: cachetools>=4.0 in /usr/local/lib/python3.6/dist-packages (from streamlit) (4.2.1)\n",
            "Requirement already satisfied: validators in /usr/local/lib/python3.6/dist-packages (from streamlit) (0.18.2)\n",
            "Requirement already satisfied: blinker in /usr/local/lib/python3.6/dist-packages (from streamlit) (1.4)\n",
            "Requirement already satisfied: tzlocal in /usr/local/lib/python3.6/dist-packages (from streamlit) (1.5.1)\n",
            "Requirement already satisfied: watchdog; platform_system != \"Darwin\" in /usr/local/lib/python3.6/dist-packages (from streamlit) (1.0.2)\n",
            "Requirement already satisfied: click>=7.0 in /usr/local/lib/python3.6/dist-packages (from streamlit) (7.1.2)\n",
            "Requirement already satisfied: packaging in /usr/local/lib/python3.6/dist-packages (from streamlit) (20.8)\n",
            "Requirement already satisfied: gitpython in /usr/local/lib/python3.6/dist-packages (from streamlit) (3.1.12)\n",
            "Requirement already satisfied: protobuf!=3.11,>=3.6.0 in /usr/local/lib/python3.6/dist-packages (from streamlit) (3.12.4)\n",
            "Requirement already satisfied: astor in /usr/local/lib/python3.6/dist-packages (from streamlit) (0.8.1)\n",
            "Requirement already satisfied: tornado>=5.0 in /usr/local/lib/python3.6/dist-packages (from streamlit) (5.1.1)\n",
            "Requirement already satisfied: altair>=3.2.0 in /usr/local/lib/python3.6/dist-packages (from streamlit) (4.1.0)\n",
            "Requirement already satisfied: base58 in /usr/local/lib/python3.6/dist-packages (from streamlit) (2.1.0)\n",
            "Requirement already satisfied: toml in /usr/local/lib/python3.6/dist-packages (from streamlit) (0.10.2)\n",
            "Requirement already satisfied: pydeck>=0.1.dev5 in /usr/local/lib/python3.6/dist-packages (from streamlit) (0.5.0)\n",
            "Requirement already satisfied: requests in /usr/local/lib/python3.6/dist-packages (from streamlit) (2.23.0)\n",
            "Requirement already satisfied: pillow>=6.2.0 in /usr/local/lib/python3.6/dist-packages (from streamlit) (7.0.0)\n",
            "Requirement already satisfied: pytz>=2017.2 in /usr/local/lib/python3.6/dist-packages (from pandas>=0.21.0->streamlit) (2018.9)\n",
            "Requirement already satisfied: six>=1.0.0 in /usr/local/lib/python3.6/dist-packages (from pyarrow; python_version < \"3.9\"->streamlit) (1.15.0)\n",
            "Requirement already satisfied: decorator>=3.4.0 in /usr/local/lib/python3.6/dist-packages (from validators->streamlit) (4.4.2)\n",
            "Requirement already satisfied: pyparsing>=2.0.2 in /usr/local/lib/python3.6/dist-packages (from packaging->streamlit) (2.4.7)\n",
            "Requirement already satisfied: gitdb<5,>=4.0.1 in /usr/local/lib/python3.6/dist-packages (from gitpython->streamlit) (4.0.5)\n",
            "Requirement already satisfied: setuptools in /usr/local/lib/python3.6/dist-packages (from protobuf!=3.11,>=3.6.0->streamlit) (51.3.3)\n",
            "Requirement already satisfied: toolz in /usr/local/lib/python3.6/dist-packages (from altair>=3.2.0->streamlit) (0.11.1)\n",
            "Requirement already satisfied: jsonschema in /usr/local/lib/python3.6/dist-packages (from altair>=3.2.0->streamlit) (2.6.0)\n",
            "Requirement already satisfied: jinja2 in /usr/local/lib/python3.6/dist-packages (from altair>=3.2.0->streamlit) (2.11.2)\n",
            "Requirement already satisfied: entrypoints in /usr/local/lib/python3.6/dist-packages (from altair>=3.2.0->streamlit) (0.3)\n",
            "Requirement already satisfied: ipykernel>=5.1.2; python_version >= \"3.4\" in /usr/local/lib/python3.6/dist-packages (from pydeck>=0.1.dev5->streamlit) (5.4.3)\n",
            "Requirement already satisfied: ipywidgets>=7.0.0 in /usr/local/lib/python3.6/dist-packages (from pydeck>=0.1.dev5->streamlit) (7.6.3)\n",
            "Requirement already satisfied: traitlets>=4.3.2 in /usr/local/lib/python3.6/dist-packages (from pydeck>=0.1.dev5->streamlit) (4.3.3)\n",
            "Requirement already satisfied: chardet<4,>=3.0.2 in /usr/local/lib/python3.6/dist-packages (from requests->streamlit) (3.0.4)\n",
            "Requirement already satisfied: urllib3!=1.25.0,!=1.25.1,<1.26,>=1.21.1 in /usr/local/lib/python3.6/dist-packages (from requests->streamlit) (1.24.3)\n",
            "Requirement already satisfied: idna<3,>=2.5 in /usr/local/lib/python3.6/dist-packages (from requests->streamlit) (2.10)\n",
            "Requirement already satisfied: certifi>=2017.4.17 in /usr/local/lib/python3.6/dist-packages (from requests->streamlit) (2020.12.5)\n",
            "Requirement already satisfied: smmap<4,>=3.0.1 in /usr/local/lib/python3.6/dist-packages (from gitdb<5,>=4.0.1->gitpython->streamlit) (3.0.5)\n",
            "Requirement already satisfied: MarkupSafe>=0.23 in /usr/local/lib/python3.6/dist-packages (from jinja2->altair>=3.2.0->streamlit) (1.1.1)\n",
            "Requirement already satisfied: jupyter-client in /usr/local/lib/python3.6/dist-packages (from ipykernel>=5.1.2; python_version >= \"3.4\"->pydeck>=0.1.dev5->streamlit) (5.3.5)\n",
            "Requirement already satisfied: ipython>=5.0.0 in /usr/local/lib/python3.6/dist-packages (from ipykernel>=5.1.2; python_version >= \"3.4\"->pydeck>=0.1.dev5->streamlit) (5.5.0)\n",
            "Requirement already satisfied: nbformat>=4.2.0 in /usr/local/lib/python3.6/dist-packages (from ipywidgets>=7.0.0->pydeck>=0.1.dev5->streamlit) (5.1.2)\n",
            "Requirement already satisfied: widgetsnbextension~=3.5.0 in /usr/local/lib/python3.6/dist-packages (from ipywidgets>=7.0.0->pydeck>=0.1.dev5->streamlit) (3.5.1)\n",
            "Requirement already satisfied: jupyterlab-widgets>=1.0.0; python_version >= \"3.6\" in /usr/local/lib/python3.6/dist-packages (from ipywidgets>=7.0.0->pydeck>=0.1.dev5->streamlit) (1.0.0)\n",
            "Requirement already satisfied: ipython-genutils in /usr/local/lib/python3.6/dist-packages (from traitlets>=4.3.2->pydeck>=0.1.dev5->streamlit) (0.2.0)\n",
            "Requirement already satisfied: pyzmq>=13 in /usr/local/lib/python3.6/dist-packages (from jupyter-client->ipykernel>=5.1.2; python_version >= \"3.4\"->pydeck>=0.1.dev5->streamlit) (21.0.1)\n",
            "Requirement already satisfied: jupyter-core>=4.6.0 in /usr/local/lib/python3.6/dist-packages (from jupyter-client->ipykernel>=5.1.2; python_version >= \"3.4\"->pydeck>=0.1.dev5->streamlit) (4.7.0)\n",
            "Requirement already satisfied: pickleshare in /usr/local/lib/python3.6/dist-packages (from ipython>=5.0.0->ipykernel>=5.1.2; python_version >= \"3.4\"->pydeck>=0.1.dev5->streamlit) (0.7.5)\n",
            "Requirement already satisfied: simplegeneric>0.8 in /usr/local/lib/python3.6/dist-packages (from ipython>=5.0.0->ipykernel>=5.1.2; python_version >= \"3.4\"->pydeck>=0.1.dev5->streamlit) (0.8.1)\n",
            "Requirement already satisfied: prompt-toolkit<2.0.0,>=1.0.4 in /usr/local/lib/python3.6/dist-packages (from ipython>=5.0.0->ipykernel>=5.1.2; python_version >= \"3.4\"->pydeck>=0.1.dev5->streamlit) (1.0.18)\n",
            "Requirement already satisfied: pygments in /usr/local/lib/python3.6/dist-packages (from ipython>=5.0.0->ipykernel>=5.1.2; python_version >= \"3.4\"->pydeck>=0.1.dev5->streamlit) (2.6.1)\n",
            "Requirement already satisfied: pexpect; sys_platform != \"win32\" in /usr/local/lib/python3.6/dist-packages (from ipython>=5.0.0->ipykernel>=5.1.2; python_version >= \"3.4\"->pydeck>=0.1.dev5->streamlit) (4.8.0)\n",
            "Requirement already satisfied: notebook>=4.4.1 in /usr/local/lib/python3.6/dist-packages (from widgetsnbextension~=3.5.0->ipywidgets>=7.0.0->pydeck>=0.1.dev5->streamlit) (5.3.1)\n",
            "Requirement already satisfied: wcwidth in /usr/local/lib/python3.6/dist-packages (from prompt-toolkit<2.0.0,>=1.0.4->ipython>=5.0.0->ipykernel>=5.1.2; python_version >= \"3.4\"->pydeck>=0.1.dev5->streamlit) (0.2.5)\n",
            "Requirement already satisfied: ptyprocess>=0.5 in /usr/local/lib/python3.6/dist-packages (from pexpect; sys_platform != \"win32\"->ipython>=5.0.0->ipykernel>=5.1.2; python_version >= \"3.4\"->pydeck>=0.1.dev5->streamlit) (0.7.0)\n",
            "Requirement already satisfied: terminado>=0.8.1 in /usr/local/lib/python3.6/dist-packages (from notebook>=4.4.1->widgetsnbextension~=3.5.0->ipywidgets>=7.0.0->pydeck>=0.1.dev5->streamlit) (0.9.2)\n",
            "Requirement already satisfied: Send2Trash in /usr/local/lib/python3.6/dist-packages (from notebook>=4.4.1->widgetsnbextension~=3.5.0->ipywidgets>=7.0.0->pydeck>=0.1.dev5->streamlit) (1.5.0)\n",
            "Requirement already satisfied: nbconvert in /usr/local/lib/python3.6/dist-packages (from notebook>=4.4.1->widgetsnbextension~=3.5.0->ipywidgets>=7.0.0->pydeck>=0.1.dev5->streamlit) (5.6.1)\n",
            "Requirement already satisfied: testpath in /usr/local/lib/python3.6/dist-packages (from nbconvert->notebook>=4.4.1->widgetsnbextension~=3.5.0->ipywidgets>=7.0.0->pydeck>=0.1.dev5->streamlit) (0.4.4)\n",
            "Requirement already satisfied: mistune<2,>=0.8.1 in /usr/local/lib/python3.6/dist-packages (from nbconvert->notebook>=4.4.1->widgetsnbextension~=3.5.0->ipywidgets>=7.0.0->pydeck>=0.1.dev5->streamlit) (0.8.4)\n",
            "Requirement already satisfied: bleach in /usr/local/lib/python3.6/dist-packages (from nbconvert->notebook>=4.4.1->widgetsnbextension~=3.5.0->ipywidgets>=7.0.0->pydeck>=0.1.dev5->streamlit) (3.2.2)\n",
            "Requirement already satisfied: pandocfilters>=1.4.1 in /usr/local/lib/python3.6/dist-packages (from nbconvert->notebook>=4.4.1->widgetsnbextension~=3.5.0->ipywidgets>=7.0.0->pydeck>=0.1.dev5->streamlit) (1.4.3)\n",
            "Requirement already satisfied: defusedxml in /usr/local/lib/python3.6/dist-packages (from nbconvert->notebook>=4.4.1->widgetsnbextension~=3.5.0->ipywidgets>=7.0.0->pydeck>=0.1.dev5->streamlit) (0.6.0)\n",
            "Requirement already satisfied: webencodings in /usr/local/lib/python3.6/dist-packages (from bleach->nbconvert->notebook>=4.4.1->widgetsnbextension~=3.5.0->ipywidgets>=7.0.0->pydeck>=0.1.dev5->streamlit) (0.5.1)\n"
          ],
          "name": "stdout"
        }
      ]
    },
    {
      "cell_type": "code",
      "metadata": {
        "colab": {
          "base_uri": "https://localhost:8080/"
        },
        "id": "0a78jVhGWzLn",
        "outputId": "9aeaf658-0c1a-4dbd-9705-da9ab0713718"
      },
      "source": [
        "!pip install pyngrok==4.1.1"
      ],
      "execution_count": 6,
      "outputs": [
        {
          "output_type": "stream",
          "text": [
            "Requirement already satisfied: pyngrok==4.1.1 in /usr/local/lib/python3.6/dist-packages (4.1.1)\n",
            "Requirement already satisfied: future in /usr/local/lib/python3.6/dist-packages (from pyngrok==4.1.1) (0.16.0)\n",
            "Requirement already satisfied: PyYAML in /usr/local/lib/python3.6/dist-packages (from pyngrok==4.1.1) (3.13)\n"
          ],
          "name": "stdout"
        }
      ]
    },
    {
      "cell_type": "code",
      "metadata": {
        "id": "vvVHGW-GnhbX",
        "colab": {
          "base_uri": "https://localhost:8080/"
        },
        "outputId": "8a03fa69-993e-46bb-fd62-3e9862015a21"
      },
      "source": [
        "!pip install pyEDFlib"
      ],
      "execution_count": 7,
      "outputs": [
        {
          "output_type": "stream",
          "text": [
            "Requirement already satisfied: pyEDFlib in /usr/local/lib/python3.6/dist-packages (0.1.20)\n",
            "Requirement already satisfied: numpy>=1.9.1 in /usr/local/lib/python3.6/dist-packages (from pyEDFlib) (1.19.5)\n"
          ],
          "name": "stdout"
        }
      ]
    },
    {
      "cell_type": "code",
      "metadata": {
        "colab": {
          "base_uri": "https://localhost:8080/"
        },
        "id": "Km6ucXuTKKyC",
        "outputId": "d1e93492-303f-46af-f2bb-43079b26967e"
      },
      "source": [
        "from google.colab import drive\r\n",
        "drive.mount('/gdrive')"
      ],
      "execution_count": 8,
      "outputs": [
        {
          "output_type": "stream",
          "text": [
            "Mounted at /gdrive\n"
          ],
          "name": "stdout"
        }
      ]
    },
    {
      "cell_type": "markdown",
      "metadata": {
        "id": "thLayMYFirkn"
      },
      "source": [
        "# Building the App\r\n",
        "\r\n",
        "The next cell is the main cell where we flesh out the app with all it's helper functions and operations."
      ]
    },
    {
      "cell_type": "code",
      "metadata": {
        "colab": {
          "base_uri": "https://localhost:8080/"
        },
        "id": "oI8G_U9aW28x",
        "outputId": "30ba02dc-e134-4a1c-89a0-7f1a0bfdf3e9"
      },
      "source": [
        "%%writefile app.py\r\n",
        "import pandas as pd\r\n",
        "import numpy as np\r\n",
        "from pyedflib import highlevel\r\n",
        "import scipy.interpolate\r\n",
        "from scipy import signal\r\n",
        "from matplotlib import patches\r\n",
        "from scipy.signal import butter, lfilter\r\n",
        "import matplotlib.pyplot as plt\r\n",
        "import streamlit as st\r\n",
        "from PIL import Image\r\n",
        "# a function to fetch the power spectral density of the signals\r\n",
        "# change the sampling frequency (fs) and range on the basis of headset\r\n",
        "def get_psds(data, fs=256, f_range=[0.5, 30]):\r\n",
        "    '''\r\n",
        "    Calculate signal power using Welch method.\r\n",
        "    Input: data- mxn matrix (m: number of channels, n: samples of signals)\r\n",
        "           fs- Sampling frequency (default 128Hz)\r\n",
        "           f_range- Frequency range (default 0.5Hz to 30Hz)\r\n",
        "    Output: Power values and PSD values\r\n",
        "    '''\r\n",
        "    powers = []\r\n",
        "    psds = list()\r\n",
        "    for sig in data:\r\n",
        "        freq, psd = signal.welch(sig, fs)\r\n",
        "        idx = np.logical_and(freq >= f_range[0], freq <= f_range[1])\r\n",
        "        powers = np.append(powers, sum(psd[idx]))\r\n",
        "        psds.append(psd[idx])\r\n",
        "    return powers, psds\r\n",
        "# function to plot the topographical map of the brain according to Emotiv 14 channel headset\r\n",
        "def plot_topomap(data, ax, fig, draw_cbar=True):\r\n",
        "    '''\r\n",
        "    Plot topographic plot of EEG data. This specialy design for Emotiv 14 electrode data. \r\n",
        "    This can be change for any other arrangement by changing ch_pos (channel position array)\r\n",
        "    Input: data- 1D array 14 data values\r\n",
        "           ax- Matplotlib subplot object to be plotted every thing\r\n",
        "           fig- Matplot lib figure object to draw colormap\r\n",
        "           draw_cbar- Visualize color bar in the plot\r\n",
        "    '''\r\n",
        "    N = 300            \r\n",
        "    xy_center = [2,2]  \r\n",
        "    radius = 2 \r\n",
        "\r\n",
        "    # AF3, F7, F3, FC5, T7, P7, O1, O2, P8, T8, FC6, F4, F8, AF4\r\n",
        "    ch_pos = [[1,4],[0.1,3], [1.5,3.5], [0.5,2.5], \r\n",
        "             [-0.1,2], [0.4,0.4], [1.5,0], [2.5,0], \r\n",
        "             [3.6,0.4], [4.1,2], [3.5,2.5], [2.5,3.5], \r\n",
        "             [3.9,3], [3,4]]\r\n",
        "    x,y = [],[]\r\n",
        "    for i in ch_pos:\r\n",
        "        x.append(i[0])\r\n",
        "        y.append(i[1])\r\n",
        "\r\n",
        "    xi = np.linspace(-2, 6, N)\r\n",
        "    yi = np.linspace(-2, 6, N)\r\n",
        "    zi = scipy.interpolate.griddata((x, y), data, (xi[None,:], yi[:,None]), method='cubic')\r\n",
        "\r\n",
        "    dr = xi[1] - xi[0]\r\n",
        "    for i in range(N):\r\n",
        "        for j in range(N):\r\n",
        "            r = np.sqrt((xi[i] - xy_center[0])**2 + (yi[j] - xy_center[1])**2)\r\n",
        "            if (r - dr/2) > radius:\r\n",
        "                zi[j,i] = \"nan\"\r\n",
        "    \r\n",
        "    dist = ax.contourf(xi, yi, zi, 60, cmap = plt.get_cmap('coolwarm'), zorder = 1)\r\n",
        "    ax.contour(xi, yi, zi, 15, linewidths = 0.5,colors = \"grey\", zorder = 2)\r\n",
        "    \r\n",
        "    if draw_cbar:\r\n",
        "        cbar = fig.colorbar(dist, ax=ax, format='%.1e')\r\n",
        "        cbar.ax.tick_params(labelsize=8)\r\n",
        "\r\n",
        "    ax.scatter(x, y, marker = 'o', c = 'b', s = 15, zorder = 3)\r\n",
        "    circle = patches.Circle(xy = xy_center, radius = radius, edgecolor = \"k\", facecolor = \"none\", zorder=4)\r\n",
        "    ax.add_patch(circle)\r\n",
        "\r\n",
        "    for loc, spine in ax.spines.items():\r\n",
        "        spine.set_linewidth(0)\r\n",
        "    \r\n",
        "    ax.set_xticks([])\r\n",
        "    ax.set_yticks([])\r\n",
        "\r\n",
        "    circle = patches.Ellipse(xy = [0,2], width = 0.4, height = 1.0, angle = 0, edgecolor = \"k\", facecolor = \"w\", zorder = 0)\r\n",
        "    ax.add_patch(circle)\r\n",
        "    circle = patches.Ellipse(xy = [4,2], width = 0.4, height = 1.0, angle = 0, edgecolor = \"k\", facecolor = \"w\", zorder = 0)\r\n",
        "    ax.add_patch(circle)\r\n",
        "    \r\n",
        "    xy = [[1.6,3.6], [2,4.3],[2.4,3.6]]\r\n",
        "    polygon = patches.Polygon(xy = xy, edgecolor = \"k\", facecolor = \"w\", zorder = 0)\r\n",
        "    ax.add_patch(polygon) \r\n",
        "    \r\n",
        "    ax.set_xlim(-0.5, 4.5)\r\n",
        "    ax.set_ylim(-0.5, 4.5)\r\n",
        "\r\n",
        "    return ax\r\n",
        "    \r\n",
        "\r\n",
        "# functions to create a butterworth filter\r\n",
        "def butter_bandpass(lowcut, highcut, fs, order=5):\r\n",
        "    nyq = 0.5 * fs\r\n",
        "    low = lowcut / nyq\r\n",
        "    high = highcut / nyq\r\n",
        "    b, a = butter(order, [low, high], btype='band')\r\n",
        "    return b, a\r\n",
        "\r\n",
        "\r\n",
        "def butter_bandpass_filter(data, lowcut, highcut, fs, order=5):\r\n",
        "    b, a = butter_bandpass(lowcut, highcut, fs, order=order)\r\n",
        "    y = lfilter(b, a, data)\r\n",
        "    return y\r\n",
        "#function to load the raw data from the edf file selected\r\n",
        "def load_raw_data(session_name):\r\n",
        "  file_loc = '/gdrive/MyDrive/Colab Notebooks/data_test/S001'+ session_name+'.edf'\r\n",
        "  signals, signal_headers, header = highlevel.read_edf(file_loc)\r\n",
        "  return signals, signal_headers, header\r\n",
        "\r\n",
        "def main():\r\n",
        "  st.title(\"CEREBRO\")\r\n",
        "  st.subheader(\"An interactive web app to visualise EEG Data\")\r\n",
        "  st.markdown(\"A tool for gifted youngsters, mutant and human alike :wink: \")\r\n",
        "  # creating the sidebar with all it's glorious options\r\n",
        "  st.sidebar.subheader(\"Session Selection\")\r\n",
        "  session_list = ['E01', 'E02', 'E03', 'E04']\r\n",
        "  session_name = st.sidebar.selectbox(\"Select the Session\", session_list)\r\n",
        "  show_topo = st.sidebar.checkbox(\"Show Topo Map\")\r\n",
        "\r\n",
        "  # fetching the input data from the files and calculating parameters for charts\r\n",
        "  signals_raw, signals_head, _ = load_raw_data(session_name)\r\n",
        "  signals = pd.DataFrame(signals_raw)\r\n",
        "  headers = pd.DataFrame(signals_head)\r\n",
        "\r\n",
        "  st.sidebar.subheader(\"Channel Selection\")\r\n",
        "  channel_names_list = headers['label']\r\n",
        "  selected_channel = st.sidebar.selectbox(\"Select the Channel\", channel_names_list)\r\n",
        "  freq_bands = ['alpha', 'beta', 'delta', 'theta', 'gamma', 'none']\r\n",
        "  st.sidebar.subheader(\"Frequency Band Selection\")\r\n",
        "  selected_frequency = st.sidebar.selectbox(\"Select the Frequency Band\", freq_bands)\r\n",
        "  #show_psd = st.sidebar.checkbox(\"Show Power Spectral Density\")\r\n",
        "\r\n",
        "  pwrs, _ = get_psds(signals_raw)\r\n",
        "  fig, ax = plt.subplots(figsize=(10,8))\r\n",
        "  plot_topomap(pwrs, ax, fig)\r\n",
        "\r\n",
        "   \r\n",
        "\r\n",
        "  id =  headers.index[headers['label'] == selected_channel].tolist()[0]\r\n",
        "  #f = plt.psd(signals.iloc[id], 256, 1 / 0.001)\r\n",
        "\r\n",
        "  # code which I could have refactored a lot\r\n",
        "\r\n",
        "  if selected_frequency == 'alpha':\r\n",
        "    lowcut = 8\r\n",
        "    highcut = 12\r\n",
        "  elif selected_frequency == 'beta':\r\n",
        "    lowcut = 13\r\n",
        "    highcut = 30\r\n",
        "  elif selected_frequency == 'delta':\r\n",
        "    lowcut = 1\r\n",
        "    highcut = 4\r\n",
        "  elif selected_frequency == 'theta':\r\n",
        "    lowcut = 4\r\n",
        "    highcut = 8\r\n",
        "  elif selected_frequency == 'gamma':\r\n",
        "    lowcut = 30\r\n",
        "    highcut = 100\r\n",
        "  elif selected_frequency == 'none':\r\n",
        "    lowcut = 1\r\n",
        "    highcut = 100\r\n",
        "  sampled_channel = butter_bandpass_filter(signals.iloc[id].to_numpy(), lowcut, highcut, 256, order=6)\r\n",
        "  if session_name:\r\n",
        "    st.write(\"Showing the first five channels of the session \", session_name)\r\n",
        "    st.dataframe(signals.head())\r\n",
        "  if show_topo:\r\n",
        "    st.write(\"Showing the topographical data of the brain as per Emotiv 14 channel headset\")\r\n",
        "    st.pyplot(fig)\r\n",
        "  if selected_channel:\r\n",
        "    st.write(\"The data of channel \",selected_channel,\" in the band -  \",selected_frequency)\r\n",
        "    st.line_chart(sampled_channel)\r\n",
        "  st.markdown('The data for this project has been used from - [EEG dataset of Fusion relaxation and concentration moods”, Mendeley Data, V1, doi: 10.17632/8c26dn6c7w.1](https://data.mendeley.com/datasets/8c26dn6c7w/1#__sid=js0)')\r\n",
        "\r\n",
        "\r\n",
        "\r\n",
        "if __name__ == '__main__':\r\n",
        "\tmain()"
      ],
      "execution_count": 18,
      "outputs": [
        {
          "output_type": "stream",
          "text": [
            "Overwriting app.py\n"
          ],
          "name": "stdout"
        }
      ]
    },
    {
      "cell_type": "markdown",
      "metadata": {
        "id": "cc6Azm4rCHuM"
      },
      "source": [
        "# Running the App on ngrok\r\n",
        "\r\n",
        "Assigning the ports and running the app on the ngrok serrver"
      ]
    },
    {
      "cell_type": "code",
      "metadata": {
        "colab": {
          "base_uri": "https://localhost:8080/"
        },
        "id": "vIUa7EodXO5J",
        "outputId": "1e1d5692-1196-40b1-dd40-aac0dac1a318"
      },
      "source": [
        "!ls"
      ],
      "execution_count": 10,
      "outputs": [
        {
          "output_type": "stream",
          "text": [
            "app.py\tsample_data\n"
          ],
          "name": "stdout"
        }
      ]
    },
    {
      "cell_type": "code",
      "metadata": {
        "colab": {
          "base_uri": "https://localhost:8080/"
        },
        "id": "ch4RFzYZXa77",
        "outputId": "4855dcde-e40e-4104-b342-a2d3a1376e70"
      },
      "source": [
        "!ngrok authtoken 1nVTLkGL8cPxsxEQMVVwdLzepOt_PDPwGMQLUwUwAsMEXFH5"
      ],
      "execution_count": 11,
      "outputs": [
        {
          "output_type": "stream",
          "text": [
            "Authtoken saved to configuration file: /root/.ngrok2/ngrok.yml\n"
          ],
          "name": "stdout"
        }
      ]
    },
    {
      "cell_type": "code",
      "metadata": {
        "colab": {
          "base_uri": "https://localhost:8080/"
        },
        "id": "ojXPIyIXXo3b",
        "outputId": "e18e33a4-1f35-48f3-8449-0818cde345ea"
      },
      "source": [
        "!ngrok"
      ],
      "execution_count": 12,
      "outputs": [
        {
          "output_type": "stream",
          "text": [
            "NAME:\n",
            "   ngrok - tunnel local ports to public URLs and inspect traffic\n",
            "\n",
            "DESCRIPTION:\n",
            "    ngrok exposes local networked services behinds NATs and firewalls to the\n",
            "    public internet over a secure tunnel. Share local websites, build/test\n",
            "    webhook consumers and self-host personal services.\n",
            "    Detailed help for each command is available with 'ngrok help <command>'.\n",
            "    Open http://localhost:4040 for ngrok's web interface to inspect traffic.\n",
            "\n",
            "EXAMPLES:\n",
            "    ngrok http 80                    # secure public URL for port 80 web server\n",
            "    ngrok http -subdomain=baz 8080   # port 8080 available at baz.ngrok.io\n",
            "    ngrok http foo.dev:80            # tunnel to host:port instead of localhost\n",
            "    ngrok http https://localhost     # expose a local https server\n",
            "    ngrok tcp 22                     # tunnel arbitrary TCP traffic to port 22\n",
            "    ngrok tls -hostname=foo.com 443  # TLS traffic for foo.com to port 443\n",
            "    ngrok start foo bar baz          # start tunnels from the configuration file\n",
            "\n",
            "VERSION:\n",
            "   2.3.35\n",
            "\n",
            "AUTHOR:\n",
            "  inconshreveable - <alan@ngrok.com>\n",
            "\n",
            "COMMANDS:\n",
            "   authtoken\tsave authtoken to configuration file\n",
            "   credits\tprints author and licensing information\n",
            "   http\t\tstart an HTTP tunnel\n",
            "   start\tstart tunnels by name from the configuration file\n",
            "   tcp\t\tstart a TCP tunnel\n",
            "   tls\t\tstart a TLS tunnel\n",
            "   update\tupdate ngrok to the latest version\n",
            "   version\tprint the version string\n",
            "   help\t\tShows a list of commands or help for one command\n",
            "\n",
            "PYNGROK VERSION:\n",
            "   4.1.1\n"
          ],
          "name": "stdout"
        }
      ]
    },
    {
      "cell_type": "code",
      "metadata": {
        "id": "H8JbSSXrXsDK"
      },
      "source": [
        "from pyngrok import ngrok"
      ],
      "execution_count": 13,
      "outputs": []
    },
    {
      "cell_type": "code",
      "metadata": {
        "id": "iFXAMSX1YRvC"
      },
      "source": [
        "!streamlit run app.py &>/dev/null&"
      ],
      "execution_count": 14,
      "outputs": []
    },
    {
      "cell_type": "code",
      "metadata": {
        "colab": {
          "base_uri": "https://localhost:8080/"
        },
        "id": "5GIBB5-IZho6",
        "outputId": "ade30f0b-c589-4af8-941d-194e624aa605"
      },
      "source": [
        "!pgrep streamlit"
      ],
      "execution_count": 15,
      "outputs": [
        {
          "output_type": "stream",
          "text": [
            "408\n"
          ],
          "name": "stdout"
        }
      ]
    },
    {
      "cell_type": "code",
      "metadata": {
        "id": "yfi481bZX3I1"
      },
      "source": [
        "publ_url = ngrok.connect(port = '8501')"
      ],
      "execution_count": 16,
      "outputs": []
    },
    {
      "cell_type": "code",
      "metadata": {
        "colab": {
          "base_uri": "https://localhost:8080/",
          "height": 35
        },
        "id": "FbQ85bl-Y5wH",
        "outputId": "cd7d4301-dea8-4f3b-8c07-b2d378f07176"
      },
      "source": [
        "publ_url"
      ],
      "execution_count": 17,
      "outputs": [
        {
          "output_type": "execute_result",
          "data": {
            "application/vnd.google.colaboratory.intrinsic+json": {
              "type": "string"
            },
            "text/plain": [
              "'http://c36ecde8f53c.ngrok.io'"
            ]
          },
          "metadata": {
            "tags": []
          },
          "execution_count": 17
        }
      ]
    },
    {
      "cell_type": "markdown",
      "metadata": {
        "id": "JJH3f2dICaQP"
      },
      "source": [
        "# Kill the App\r\n",
        "\r\n",
        "The next section is created to kill the app running on the ngrok server."
      ]
    },
    {
      "cell_type": "code",
      "metadata": {
        "colab": {
          "base_uri": "https://localhost:8080/"
        },
        "id": "HjElf8AXbZL-",
        "outputId": "df49267b-083c-4bac-c80b-fe1ff4f250ea"
      },
      "source": [
        "!pgrep streamlit"
      ],
      "execution_count": 19,
      "outputs": [
        {
          "output_type": "stream",
          "text": [
            "408\n"
          ],
          "name": "stdout"
        }
      ]
    },
    {
      "cell_type": "code",
      "metadata": {
        "id": "KXXLE6W-babl"
      },
      "source": [
        "!kill 408"
      ],
      "execution_count": 20,
      "outputs": []
    },
    {
      "cell_type": "code",
      "metadata": {
        "id": "90Ri-rf1bquz"
      },
      "source": [
        "ngrok.kill()"
      ],
      "execution_count": 21,
      "outputs": []
    }
  ]
}